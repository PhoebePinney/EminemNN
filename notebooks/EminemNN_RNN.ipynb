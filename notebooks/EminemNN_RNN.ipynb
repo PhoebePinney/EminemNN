{
  "nbformat": 4,
  "nbformat_minor": 0,
  "metadata": {
    "colab": {
      "provenance": []
    },
    "kernelspec": {
      "name": "python3",
      "display_name": "Python 3"
    },
    "language_info": {
      "name": "python"
    }
  },
  "cells": [
    {
      "cell_type": "markdown",
      "source": [
        "# EminemNN: Comparing neural network models for rap lyric generation\n",
        "\n",
        "NLU project by Phoebe Pinney and Jorgen Jensvold. This project aims to compare two models for generating unique rap lyrics that are recognisably\n",
        "in the usual style and structure of Eminem. It will compare the results of a simple RNN to a transformer model."
      ],
      "metadata": {
        "id": "Hb7d-gsnK1CH"
      }
    },
    {
      "cell_type": "markdown",
      "source": [
        "# This notebook contains the RNN model training"
      ],
      "metadata": {
        "id": "-_GW8gtpJDsj"
      }
    },
    {
      "cell_type": "code",
      "source": [
        "# Mount Google Drive\n",
        "from google.colab import drive\n",
        "drive.mount('/content/drive')"
      ],
      "metadata": {
        "colab": {
          "base_uri": "https://localhost:8080/"
        },
        "id": "qwYVjsZ9P7ld",
        "outputId": "694c5eb8-68d7-4874-f1bd-fb2c58b6c75e"
      },
      "execution_count": null,
      "outputs": [
        {
          "output_type": "stream",
          "name": "stdout",
          "text": [
            "Mounted at /content/drive\n"
          ]
        }
      ]
    },
    {
      "cell_type": "code",
      "source": [
        "# Pip installs\n",
        "!pip3 install pronouncing\n",
        "!pip3 install textstat\n",
        "!pip3 install markovify"
      ],
      "metadata": {
        "colab": {
          "base_uri": "https://localhost:8080/"
        },
        "id": "LBwmoKL2lCt4",
        "outputId": "44dfbffa-391e-40d3-8d90-d11c06ffd85d"
      },
      "execution_count": null,
      "outputs": [
        {
          "output_type": "stream",
          "name": "stdout",
          "text": [
            "Looking in indexes: https://pypi.org/simple, https://us-python.pkg.dev/colab-wheels/public/simple/\n",
            "Collecting pronouncing\n",
            "  Downloading pronouncing-0.2.0.tar.gz (17 kB)\n",
            "  Preparing metadata (setup.py) ... \u001b[?25l\u001b[?25hdone\n",
            "Collecting cmudict>=0.4.0\n",
            "  Downloading cmudict-1.0.13-py3-none-any.whl (939 kB)\n",
            "\u001b[2K     \u001b[90m━━━━━━━━━━━━━━━━━━━━━━━━━━━━━━━━━━━━━━\u001b[0m \u001b[32m939.3/939.3 kB\u001b[0m \u001b[31m16.1 MB/s\u001b[0m eta \u001b[36m0:00:00\u001b[0m\n",
            "\u001b[?25hRequirement already satisfied: importlib-resources<6.0.0,>=5.10.1 in /usr/local/lib/python3.9/dist-packages (from cmudict>=0.4.0->pronouncing) (5.12.0)\n",
            "Collecting importlib-metadata<6.0.0,>=5.1.0\n",
            "  Downloading importlib_metadata-5.2.0-py3-none-any.whl (21 kB)\n",
            "Requirement already satisfied: zipp>=0.5 in /usr/local/lib/python3.9/dist-packages (from importlib-metadata<6.0.0,>=5.1.0->cmudict>=0.4.0->pronouncing) (3.15.0)\n",
            "Building wheels for collected packages: pronouncing\n",
            "  Building wheel for pronouncing (setup.py) ... \u001b[?25l\u001b[?25hdone\n",
            "  Created wheel for pronouncing: filename=pronouncing-0.2.0-py2.py3-none-any.whl size=6251 sha256=c56124580a2e01b392b663f5030855b5aa0c5b9b4e7055b3087087f593c5ba70\n",
            "  Stored in directory: /root/.cache/pip/wheels/ee/d4/c2/fb8c0e2009b75358874506ff2ce1ee79370b6ef5cf08922206\n",
            "Successfully built pronouncing\n",
            "Installing collected packages: importlib-metadata, cmudict, pronouncing\n",
            "  Attempting uninstall: importlib-metadata\n",
            "    Found existing installation: importlib-metadata 6.3.0\n",
            "    Uninstalling importlib-metadata-6.3.0:\n",
            "      Successfully uninstalled importlib-metadata-6.3.0\n",
            "Successfully installed cmudict-1.0.13 importlib-metadata-5.2.0 pronouncing-0.2.0\n",
            "Looking in indexes: https://pypi.org/simple, https://us-python.pkg.dev/colab-wheels/public/simple/\n",
            "Collecting textstat\n",
            "  Downloading textstat-0.7.3-py3-none-any.whl (105 kB)\n",
            "\u001b[2K     \u001b[90m━━━━━━━━━━━━━━━━━━━━━━━━━━━━━━━━━━━━━━━\u001b[0m \u001b[32m105.1/105.1 kB\u001b[0m \u001b[31m4.1 MB/s\u001b[0m eta \u001b[36m0:00:00\u001b[0m\n",
            "\u001b[?25hCollecting pyphen\n",
            "  Downloading pyphen-0.14.0-py3-none-any.whl (2.0 MB)\n",
            "\u001b[2K     \u001b[90m━━━━━━━━━━━━━━━━━━━━━━━━━━━━━━━━━━━━━━━━\u001b[0m \u001b[32m2.0/2.0 MB\u001b[0m \u001b[31m31.0 MB/s\u001b[0m eta \u001b[36m0:00:00\u001b[0m\n",
            "\u001b[?25hInstalling collected packages: pyphen, textstat\n",
            "Successfully installed pyphen-0.14.0 textstat-0.7.3\n",
            "Looking in indexes: https://pypi.org/simple, https://us-python.pkg.dev/colab-wheels/public/simple/\n",
            "Collecting markovify\n",
            "  Downloading markovify-0.9.4.tar.gz (27 kB)\n",
            "  Preparing metadata (setup.py) ... \u001b[?25l\u001b[?25hdone\n",
            "Collecting unidecode\n",
            "  Downloading Unidecode-1.3.6-py3-none-any.whl (235 kB)\n",
            "\u001b[2K     \u001b[90m━━━━━━━━━━━━━━━━━━━━━━━━━━━━━━━━━━━━━━━\u001b[0m \u001b[32m235.9/235.9 kB\u001b[0m \u001b[31m6.8 MB/s\u001b[0m eta \u001b[36m0:00:00\u001b[0m\n",
            "\u001b[?25hBuilding wheels for collected packages: markovify\n",
            "  Building wheel for markovify (setup.py) ... \u001b[?25l\u001b[?25hdone\n",
            "  Created wheel for markovify: filename=markovify-0.9.4-py3-none-any.whl size=18625 sha256=9af1ae3e52674613c319043327c549dfb412e73142430331368aeb657aa41f4c\n",
            "  Stored in directory: /root/.cache/pip/wheels/76/0a/ab/8727d219981e57e6036316dd2ec2037e61ccea0c016f7ae0c1\n",
            "Successfully built markovify\n",
            "Installing collected packages: unidecode, markovify\n",
            "Successfully installed markovify-0.9.4 unidecode-1.3.6\n"
          ]
        }
      ]
    },
    {
      "cell_type": "code",
      "source": [
        "# Import libraries\n",
        "import matplotlib.pyplot as plt\n",
        "import tensorflow as tf\n",
        "import random as rand\n",
        "import numpy as np\n",
        "import pronouncing\n",
        "import textstat\n",
        "import markovify\n",
        "import math\n",
        "import warnings\n",
        "warnings.filterwarnings('ignore')\n",
        "from keras.layers import Input, SimpleRNN, LSTM, GRU, Conv1D, Embedding, Dense, Bidirectional, Dropout\n",
        "from keras.utils import pad_sequences\n",
        "from sklearn.feature_extraction.text import CountVectorizer\n",
        "from scipy.spatial.distance import pdist, squareform\n",
        "from keras import Sequential, Model\n",
        "from keras.callbacks import ReduceLROnPlateau , EarlyStopping\n",
        "from keras.optimizers import Adam "
      ],
      "metadata": {
        "id": "fvE7gX85iWMl"
      },
      "execution_count": null,
      "outputs": []
    },
    {
      "cell_type": "markdown",
      "source": [
        "## Dataset pre-processing\n",
        "A dataset of Eminem's entire discography will be used to train the two models within this project. The file \"ALL\\_eminem.txt\" in the dataset contains all 223 of Eminem's songs combined into one text file - this is the data that will be used for training. All lyrics are in English and have been sourced from free lyric hosting websites."
      ],
      "metadata": {
        "id": "sQvHXZwmLX8e"
      }
    },
    {
      "cell_type": "markdown",
      "source": [
        "Get lyrics data"
      ],
      "metadata": {
        "id": "ryikMzCHIxKJ"
      }
    },
    {
      "cell_type": "code",
      "source": [
        "dataFilePath = '/content/drive/MyDrive/ALL_eminem.txt'\n",
        "with open(dataFilePath, 'r') as file:\n",
        "  data = (file.read())\n",
        "eminemBars = data.split('\\n') # split lyrics dataset into bars"
      ],
      "metadata": {
        "id": "enfqRCHqQFXj"
      },
      "execution_count": null,
      "outputs": []
    },
    {
      "cell_type": "markdown",
      "source": [
        "Get training data"
      ],
      "metadata": {
        "id": "7lfiAirQIz_r"
      }
    },
    {
      "cell_type": "code",
      "source": [
        "trainData = eminemBars\n",
        "\n",
        "# Tokenise\n",
        "tokeniser = tf.keras.preprocessing.text.Tokenizer(num_words=20000)\n",
        "tokeniser.fit_on_texts(trainData)\n",
        "\n",
        "# Pad the sequences\n",
        "seq = pad_sequences(tokeniser.texts_to_sequences(trainData), maxlen=30)\n",
        "\n",
        "# print(tokenizer.word_index.items()) # displays word index\n",
        "\n",
        "maxFeatures = len(tokeniser.word_index)+1\n",
        "trainX, trainY = seq[:, :-1], tf.keras.utils.to_categorical(seq[:, -1], num_classes=(maxFeatures))\n",
        "print(trainX.shape, trainY.shape)"
      ],
      "metadata": {
        "id": "xf8v70tlixem",
        "colab": {
          "base_uri": "https://localhost:8080/"
        },
        "outputId": "05bb34da-6003-4c2d-da5f-23f8f1f4f7c8"
      },
      "execution_count": null,
      "outputs": [
        {
          "output_type": "stream",
          "name": "stdout",
          "text": [
            "(23629, 29) (23629, 13723)\n"
          ]
        }
      ]
    },
    {
      "cell_type": "markdown",
      "source": [
        "## Simple RNN model\n",
        "\n",
        "Here, the simple RNN model architecture is defined."
      ],
      "metadata": {
        "id": "kN4yJLO5Lcmx"
      }
    },
    {
      "cell_type": "code",
      "source": [
        "embedSize = 512\n",
        "\n",
        "# Create a sequential model\n",
        "modelRNN = Sequential()\n",
        "\n",
        "# Add layers to the simple sequential RNN model\n",
        "modelRNN.add(Embedding(maxFeatures, embedSize, input_length=trainX.shape[1]))\n",
        "modelRNN.add(Dropout(0.2)) # prevents overfitting\n",
        "modelRNN.add(SimpleRNN(150))\n",
        "modelRNN.add(Dense(maxFeatures, activation=\"softmax\"))\n",
        "\n",
        "# Compile the model\n",
        "adam = tf.keras.optimizers.Adam(learning_rate=0.001)\n",
        "modelRNN.compile(optimizer=adam, metrics=[\"accuracy\"], loss=\"categorical_crossentropy\")\n",
        "\n",
        "# Print the model summary\n",
        "modelRNN.summary()\n",
        "tf.keras.utils.plot_model(modelRNN, to_file='modelRNN.png', show_shapes=True, show_layer_names=True)\n"
      ],
      "metadata": {
        "colab": {
          "base_uri": "https://localhost:8080/",
          "height": 834
        },
        "id": "uH5VJmlw1jEJ",
        "outputId": "00730b3b-89e1-47dc-f06a-c6541f1f0159"
      },
      "execution_count": null,
      "outputs": [
        {
          "output_type": "stream",
          "name": "stdout",
          "text": [
            "Model: \"sequential\"\n",
            "_________________________________________________________________\n",
            " Layer (type)                Output Shape              Param #   \n",
            "=================================================================\n",
            " embedding (Embedding)       (None, 29, 512)           7026176   \n",
            "                                                                 \n",
            " dropout (Dropout)           (None, 29, 512)           0         \n",
            "                                                                 \n",
            " simple_rnn (SimpleRNN)      (None, 150)               99450     \n",
            "                                                                 \n",
            " dense (Dense)               (None, 13723)             2072173   \n",
            "                                                                 \n",
            "=================================================================\n",
            "Total params: 9,197,799\n",
            "Trainable params: 9,197,799\n",
            "Non-trainable params: 0\n",
            "_________________________________________________________________\n"
          ]
        },
        {
          "output_type": "execute_result",
          "data": {
            "image/png": "[encoded data removed]",
            "text/plain": [
              "<IPython.core.display.Image object>"
            ]
          },
          "metadata": {},
          "execution_count": 9
        }
      ]
    },
    {
      "cell_type": "code",
      "source": [
        "# Callback functions to adjust the learning rate and stop training early \n",
        "learningRateReduction = ReduceLROnPlateau(monitor='accuracy', patience=3, verbose=1, factor=0.5, min_lr=0.00001)\n",
        "earlyStop = EarlyStopping(monitor=\"loss\", mode=\"min\", verbose=1, patience=20)"
      ],
      "metadata": {
        "id": "dkNmh_idiE5t"
      },
      "execution_count": null,
      "outputs": []
    },
    {
      "cell_type": "markdown",
      "source": [
        "Training the simple RNN."
      ],
      "metadata": {
        "id": "YETa-SSV3ZO7"
      }
    },
    {
      "cell_type": "code",
      "source": [
        "RNN = modelRNN.fit(trainX, trainY, epochs=30,callbacks=[learningRateReduction,earlyStop])"
      ],
      "metadata": {
        "colab": {
          "base_uri": "https://localhost:8080/"
        },
        "id": "veKmF5GBiH8z",
        "outputId": "a587dc2c-961a-4ead-e4e4-ecd788a874f7"
      },
      "execution_count": null,
      "outputs": [
        {
          "output_type": "stream",
          "name": "stdout",
          "text": [
            "Epoch 1/30\n",
            "739/739 [==============================] - 167s 226ms/step - loss: 3.5002 - accuracy: 0.4049 - lr: 0.0010\n",
            "Epoch 2/30\n",
            "739/739 [==============================] - 170s 231ms/step - loss: 2.7387 - accuracy: 0.5271 - lr: 0.0010\n",
            "Epoch 3/30\n",
            "739/739 [==============================] - 153s 207ms/step - loss: 2.0998 - accuracy: 0.6463 - lr: 0.0010\n",
            "Epoch 4/30\n",
            "739/739 [==============================] - 146s 198ms/step - loss: 1.5973 - accuracy: 0.7372 - lr: 0.0010\n",
            "Epoch 5/30\n",
            "739/739 [==============================] - 161s 218ms/step - loss: 1.2266 - accuracy: 0.7965 - lr: 0.0010\n",
            "Epoch 6/30\n",
            "739/739 [==============================] - 186s 252ms/step - loss: 0.9660 - accuracy: 0.8417 - lr: 0.0010\n",
            "Epoch 7/30\n",
            "739/739 [==============================] - 158s 214ms/step - loss: 0.7793 - accuracy: 0.8698 - lr: 0.0010\n",
            "Epoch 8/30\n",
            "739/739 [==============================] - 146s 197ms/step - loss: 0.6443 - accuracy: 0.8937 - lr: 0.0010\n",
            "Epoch 9/30\n",
            "739/739 [==============================] - 141s 191ms/step - loss: 0.5480 - accuracy: 0.9085 - lr: 0.0010\n",
            "Epoch 10/30\n",
            "739/739 [==============================] - 142s 192ms/step - loss: 0.4690 - accuracy: 0.9221 - lr: 0.0010\n",
            "Epoch 11/30\n",
            "739/739 [==============================] - 143s 194ms/step - loss: 0.4147 - accuracy: 0.9314 - lr: 0.0010\n",
            "Epoch 12/30\n",
            "739/739 [==============================] - 143s 193ms/step - loss: 0.3711 - accuracy: 0.9377 - lr: 0.0010\n",
            "Epoch 13/30\n",
            "739/739 [==============================] - 142s 193ms/step - loss: 0.3335 - accuracy: 0.9443 - lr: 0.0010\n",
            "Epoch 14/30\n",
            "739/739 [==============================] - 148s 200ms/step - loss: 0.3132 - accuracy: 0.9469 - lr: 0.0010\n",
            "Epoch 15/30\n",
            "739/739 [==============================] - 142s 192ms/step - loss: 0.2948 - accuracy: 0.9488 - lr: 0.0010\n",
            "Epoch 16/30\n",
            "739/739 [==============================] - 142s 192ms/step - loss: 0.2836 - accuracy: 0.9499 - lr: 0.0010\n",
            "Epoch 17/30\n",
            "739/739 [==============================] - 143s 194ms/step - loss: 0.2673 - accuracy: 0.9532 - lr: 0.0010\n",
            "Epoch 18/30\n",
            "739/739 [==============================] - 143s 193ms/step - loss: 0.2548 - accuracy: 0.9545 - lr: 0.0010\n",
            "Epoch 19/30\n",
            "739/739 [==============================] - 145s 196ms/step - loss: 0.2553 - accuracy: 0.9535 - lr: 0.0010\n",
            "Epoch 20/30\n",
            "739/739 [==============================] - 145s 196ms/step - loss: 0.2462 - accuracy: 0.9550 - lr: 0.0010\n",
            "Epoch 21/30\n",
            "739/739 [==============================] - 141s 191ms/step - loss: 0.2452 - accuracy: 0.9543 - lr: 0.0010\n",
            "Epoch 22/30\n",
            "739/739 [==============================] - 140s 190ms/step - loss: 0.2369 - accuracy: 0.9547 - lr: 0.0010\n",
            "Epoch 23/30\n",
            "739/739 [==============================] - 141s 191ms/step - loss: 0.2376 - accuracy: 0.9552 - lr: 0.0010\n",
            "Epoch 24/30\n",
            "739/739 [==============================] - 142s 193ms/step - loss: 0.2370 - accuracy: 0.9542 - lr: 0.0010\n",
            "Epoch 25/30\n",
            "739/739 [==============================] - 143s 193ms/step - loss: 0.2313 - accuracy: 0.9557 - lr: 0.0010\n",
            "Epoch 26/30\n",
            "739/739 [==============================] - 142s 192ms/step - loss: 0.2305 - accuracy: 0.9555 - lr: 0.0010\n",
            "Epoch 27/30\n",
            "739/739 [==============================] - 141s 191ms/step - loss: 0.2289 - accuracy: 0.9560 - lr: 0.0010\n",
            "Epoch 28/30\n",
            "739/739 [==============================] - 140s 190ms/step - loss: 0.2286 - accuracy: 0.9557 - lr: 0.0010\n",
            "Epoch 29/30\n",
            "739/739 [==============================] - 140s 190ms/step - loss: 0.2268 - accuracy: 0.9556 - lr: 0.0010\n",
            "Epoch 30/30\n",
            "739/739 [==============================] - ETA: 0s - loss: 0.2234 - accuracy: 0.9559\n",
            "Epoch 30: ReduceLROnPlateau reducing learning rate to 0.0005000000237487257.\n",
            "739/739 [==============================] - 143s 194ms/step - loss: 0.2234 - accuracy: 0.9559 - lr: 0.0010\n"
          ]
        }
      ]
    },
    {
      "cell_type": "markdown",
      "source": [
        "Saving the simple RNN model."
      ],
      "metadata": {
        "id": "KcTJlQ9w5Uf-"
      }
    },
    {
      "cell_type": "code",
      "source": [
        "modelRNN.save('EminemNN_simpleRNNmodel.h5') # saves model\n",
        "!cp EminemNN_simpleRNNmodel.h5 /content/drive/MyDrive/ # saves model to Google Drive"
      ],
      "metadata": {
        "id": "eF3dlzGJ5XTs"
      },
      "execution_count": null,
      "outputs": []
    },
    {
      "cell_type": "markdown",
      "source": [
        "## Lyric generation\n",
        "The following code is used to generate a set of rap lyrics using one of the two defined models."
      ],
      "metadata": {
        "id": "X9uqu6YuLkso"
      }
    },
    {
      "cell_type": "code",
      "source": [
        "markovModel = markovify.NewlineText(str(\"\\n\".join(eminemBars)), well_formed=False, state_size=3) # language model to create seed phrases"
      ],
      "metadata": {
        "id": "3JHCc3JaSOYn"
      },
      "execution_count": null,
      "outputs": []
    },
    {
      "cell_type": "code",
      "source": [
        "def compareBars(bar, eminemBars):\n",
        "  \"\"\"\n",
        "  Compare the generated bar to each of Eminem's bars\n",
        "  \"\"\"\n",
        "  totalDist = 0\n",
        "  count = 0\n",
        "\n",
        "  for eb in eminemBars:\n",
        "    vectoriser = CountVectorizer()\n",
        "    barVec = vectoriser.fit_transform([bar, eb])\n",
        "\n",
        "    # Cosine distance\n",
        "    barArr = barVec.toarray()\n",
        "    dist = 1-pdist(barArr, 'cosine')[0]\n",
        "    if not math.isnan(dist):\n",
        "      totalDist += dist\n",
        "      count += 1\n",
        "  avDist = totalDist/count # lower score means more unique bars\n",
        "  return avDist"
      ],
      "metadata": {
        "id": "31LB8XQBkHDm"
      },
      "execution_count": null,
      "outputs": []
    },
    {
      "cell_type": "code",
      "source": [
        "def rateBar(bar, eminemBars, eminemReadability, eminemRhymeIdx):\n",
        "  \"\"\"\n",
        "  Calculate a rating for the generated bar based on readability, rhyme density and comparison to Eminem's bars\n",
        "  \"\"\"\n",
        "  readability = textstat.automated_readability_index(bar)\n",
        "  rhymeIdx = getRhymeDensity(bar)\n",
        "  comparison = compareBars(bar, eminemBars)\n",
        "\n",
        "  rating = (eminemReadability - readability) + (eminemRhymeIdx - rhymeIdx) + comparison # lower rating is better\n",
        "  return rating"
      ],
      "metadata": {
        "id": "szzZAS1pkA_7"
      },
      "execution_count": null,
      "outputs": []
    },
    {
      "cell_type": "code",
      "source": [
        "def getReadability(bars):\n",
        "  \"\"\"\n",
        "  Returns the average readability score for the given bars\n",
        "  \"\"\"\n",
        "  total = 0\n",
        "  count = len(bars)\n",
        "\n",
        "  for bar in bars:\n",
        "    total += textstat.automated_readability_index(bar)\n",
        "\n",
        "  averageReadability = total / count\n",
        "  return averageReadability"
      ],
      "metadata": {
        "id": "X4_SFVkPj1_O"
      },
      "execution_count": null,
      "outputs": []
    },
    {
      "cell_type": "code",
      "source": [
        "def getRhymeDensity(bars):\n",
        "  \"\"\"\n",
        "  Returns the average rhyme density for the given bars\n",
        "  \"\"\"\n",
        "  totalSyllables = 0\n",
        "  rhymedSyllables = 0\n",
        "\n",
        "  for bar in bars:\n",
        "    for word in bar.split():\n",
        "      p = pronouncing.phones_for_word(word)\n",
        "      if len(p) == 0:\n",
        "        break\n",
        "      syllables = pronouncing.syllable_count(p[0])\n",
        "      totalSyllables += syllables\n",
        "      doesRhyme = False\n",
        "      for rhyme in pronouncing.rhymes(word):\n",
        "        if doesRhyme:\n",
        "          break\n",
        "        for idx, b in enumerate(bars):\n",
        "          if idx > 4:\n",
        "            break\n",
        "          if rhyme in b:\n",
        "            rhymedSyllables += syllables\n",
        "            doesRhyme = True\n",
        "            break\n",
        "  rhymeDensity = totalSyllables / rhymedSyllables\n",
        "  return rhymeDensity"
      ],
      "metadata": {
        "id": "JJW5nisgjxNE"
      },
      "execution_count": null,
      "outputs": []
    },
    {
      "cell_type": "code",
      "source": [
        "def generateBar(seedPhrase, model, barLen):\n",
        "  \"\"\"\n",
        "  Generates a bar based on seed phrase\n",
        "  \"\"\"\n",
        "  for i in range(barLen):\n",
        "    seedTokens = pad_sequences(tokeniser.texts_to_sequences([seedPhrase]), maxlen=29)\n",
        "    p = model.predict(seedTokens, verbose=0)\n",
        "    word = np.argmax(p, axis=1)[0]-1\n",
        "    seedPhrase += \" \" + str(list(tokeniser.word_index.items())[word][0])\n",
        "  return seedPhrase"
      ],
      "metadata": {
        "id": "_qJkMu0Njdpk"
      },
      "execution_count": null,
      "outputs": []
    },
    {
      "cell_type": "code",
      "source": [
        "def generateRap(model, eminemBars, userPrompt, eminemReadability, eminemRhymeIdx, barLen=10, rapLen=10, minThreshold=-0.2, maxThreshold=0.2, attempts=10):\n",
        "  \"\"\"\n",
        "  Generates a rap\n",
        "  \"\"\"\n",
        "  rap = []\n",
        "  bars = 0\n",
        "  count = 0\n",
        "  potentialBars = []\n",
        "\n",
        "  while len(rap) < rapLen:\n",
        "    if len(rap)==0:\n",
        "      seedPhrase = userPrompt\n",
        "    else:\n",
        "      seedPhrase = markovModel.make_sentence(tries=100).split(\" \") # use Markov model to generate seed phrase\n",
        "      seedPhrase = \" \".join(seedPhrase[:3])\n",
        "    count += 1\n",
        "    bar = generateBar(seedPhrase, model, rand.randrange(4, barLen))\n",
        "    barRating = rateBar(bar, eminemBars, eminemReadability, eminemRhymeIdx) \n",
        "    potentialBars.append((barRating, bar))\n",
        "\n",
        "    if barRating <= maxThreshold and barRating >= minThreshold:\n",
        "      rap.append(bar)\n",
        "      bars += 1\n",
        "      count = 0\n",
        "      print(\"Generated Bar:\", bars, \"\\n\", bar)\n",
        "\n",
        "    if count >= attempts:\n",
        "      lowest = np.Infinity\n",
        "      bestBar = \"\"\n",
        "      for bar in potentialBars:\n",
        "        if bar[0] < lowest:\n",
        "          bestBar = bar[1]\n",
        "          potentialBars = []\n",
        "      \n",
        "      rap.append(bestBar)\n",
        "      bars += 1\n",
        "      count = 0\n",
        "      print(\"Generated Bar:\", bars, \"\\n\", bestBar)\n",
        "\n",
        "  return rap"
      ],
      "metadata": {
        "id": "bzpX002ijWG7"
      },
      "execution_count": null,
      "outputs": []
    },
    {
      "cell_type": "code",
      "source": [
        "loaded_modelRNN = tf.keras.models.load_model('/content/drive/MyDrive/EminemNN_simpleRNNmodel.h5')  # load simple RNN model"
      ],
      "metadata": {
        "id": "yo83Lnrb7n7h"
      },
      "execution_count": null,
      "outputs": []
    },
    {
      "cell_type": "code",
      "source": [
        "eminemReadability = getReadability(eminemBars) # get readability of actual eminem lyrics\n",
        "eminemRhymeIdx = getRhymeDensity(eminemBars) # get rhyme density index of actual eminem lyrics\n",
        "\n",
        "print(eminemReadability, eminemRhymeIdx)"
      ],
      "metadata": {
        "id": "TxWoH0TB96FV",
        "colab": {
          "base_uri": "https://localhost:8080/"
        },
        "outputId": "a294fbc9-f3b1-46d6-9b36-7bd244b59e72"
      },
      "execution_count": null,
      "outputs": [
        {
          "output_type": "stream",
          "name": "stdout",
          "text": [
            "2.9082144822041736 0.3032329559883949\n"
          ]
        }
      ]
    },
    {
      "cell_type": "markdown",
      "source": [
        "Now, a user prompt can be used to generate a unique rap."
      ],
      "metadata": {
        "id": "B_PG2nOs6TMT"
      }
    },
    {
      "cell_type": "code",
      "source": [
        "userPrompt = \"I am a legend\" # USER PROMPT\n",
        "rap = generateRap(loaded_modelRNN, eminemBars, userPrompt, eminemReadability, eminemRhymeIdx)\n",
        "\n",
        "print(\"\\nRap Generated with Simple RNN:\")\n",
        "for line in rap:\n",
        "  print(line)\n",
        "print()\n",
        "\n",
        "readability = getReadability(rap) # get readability of generated rap\n",
        "rhymeDensity = getRhymeDensity(rap) # get rhyme density index of generated rap\n",
        "print( \"\\nAverage readability of rap:\\n\", readability, \"\\nAverage rhyme density of rap:\\n\", rhymeDensity)"
      ],
      "metadata": {
        "colab": {
          "base_uri": "https://localhost:8080/"
        },
        "id": "7LdQU_3DjQfE",
        "outputId": "895ca936-c9ce-4846-f113-6a76b6a8602e"
      },
      "execution_count": null,
      "outputs": [
        {
          "output_type": "stream",
          "name": "stdout",
          "text": [
            "Generated Bar: 1 \n",
            " I am a legend girl done die for broke in peace spot\n",
            "Generated Bar: 2 \n",
            " Get aware, wake up god disgusting hook you punk who know me\n",
            "Generated Bar: 3 \n",
            " And though me girl girl like that one right again shit\n",
            "Generated Bar: 4 \n",
            " 'Cause I'm going back down baby baby baby huh huh huh\n",
            "Generated Bar: 5 \n",
            " I run the fuck down you bitch haha way around defenseless i\n",
            "Generated Bar: 6 \n",
            " Get to the water thing keepin' open pussy knees anger records motherfucker\n",
            "Generated Bar: 7 \n",
            " Don't you want to see you eighty death trouble get\n",
            "Generated Bar: 8 \n",
            " Flavor with no song hand back down there bitch day\n",
            "Generated Bar: 9 \n",
            " We settle it, hurts air suck rhyme first she are\n",
            "Generated Bar: 10 \n",
            " And it ain't because baby baby baby huh\n",
            "\n",
            "Rap Generated with Simple RNN:\n",
            "I am a legend girl done die for broke in peace spot\n",
            "Get aware, wake up god disgusting hook you punk who know me\n",
            "And though me girl girl like that one right again shit\n",
            "'Cause I'm going back down baby baby baby huh huh huh\n",
            "I run the fuck down you bitch haha way around defenseless i\n",
            "Get to the water thing keepin' open pussy knees anger records motherfucker\n",
            "Don't you want to see you eighty death trouble get\n",
            "Flavor with no song hand back down there bitch day\n",
            "We settle it, hurts air suck rhyme first she are\n",
            "And it ain't because baby baby baby huh\n",
            "\n",
            "\n",
            "Average readability of rap:\n",
            " 3.0899999999999994 \n",
            "Average rhyme density of rap:\n",
            " 0.45652173913043476\n"
          ]
        }
      ]
    },
    {
      "cell_type": "code",
      "source": [
        "with open('simpleRNN_rap.txt', 'w') as f:\n",
        "  f.write(str(rap))\n",
        "\n",
        "!cp simpleRNN_rap.txt /content/drive/My Drive/"
      ],
      "metadata": {
        "colab": {
          "base_uri": "https://localhost:8080/"
        },
        "id": "X5TkHyoDNcHx",
        "outputId": "241e39c0-9ce8-4eb3-d496-857e61f8256f"
      },
      "execution_count": null,
      "outputs": [
        {
          "output_type": "stream",
          "name": "stdout",
          "text": [
            "cp: target 'Drive/' is not a directory\n"
          ]
        }
      ]
    }
  ]
}